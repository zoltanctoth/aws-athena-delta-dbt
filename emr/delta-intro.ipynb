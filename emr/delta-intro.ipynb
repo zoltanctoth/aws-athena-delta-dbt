{
 "cells": [
  {
   "cell_type": "markdown",
   "id": "d8672e11",
   "metadata": {},
   "source": [
    "# Working with Delta on EMR and Athena"
   ]
  },
  {
   "cell_type": "markdown",
   "id": "d43b8d15",
   "metadata": {},
   "source": [
    "## Add Delta Support to Spark"
   ]
  },
  {
   "cell_type": "code",
   "execution_count": 1,
   "id": "388e87b3",
   "metadata": {},
   "outputs": [
    {
     "data": {
      "text/html": [
       "Current session configs: <tt>{'conf': {'spark.jars.packages': 'io.delta:delta-core_2.12:2.1.1', 'spark.sql.extensions': 'io.delta.sql.DeltaSparkSessionExtension', 'spark.sql.catalog.spark_catalog': 'org.apache.spark.sql.delta.catalog.DeltaCatalog'}, 'proxyUser': 'jovyan', 'kind': 'pyspark'}</tt><br>"
      ],
      "text/plain": [
       "<IPython.core.display.HTML object>"
      ]
     },
     "metadata": {},
     "output_type": "display_data"
    },
    {
     "data": {
      "text/html": [
       "No active sessions."
      ],
      "text/plain": [
       "<IPython.core.display.HTML object>"
      ]
     },
     "metadata": {},
     "output_type": "display_data"
    }
   ],
   "source": [
    "%%configure -f\n",
    "{ \"conf\": \n",
    "   {\n",
    "       \"spark.jars.packages\": \"io.delta:delta-core_2.12:2.1.1\",\n",
    "       \"spark.sql.extensions\": \"io.delta.sql.DeltaSparkSessionExtension\",\n",
    "       \"spark.sql.catalog.spark_catalog\" : \"org.apache.spark.sql.delta.catalog.DeltaCatalog\"\n",
    "   }\n",
    "}"
   ]
  },
  {
   "cell_type": "markdown",
   "id": "b77ee4df",
   "metadata": {},
   "source": [
    "## Create a SparkSession\n",
    "We are creating this from scratch because EMR's implicit _SparkSession_ creation is unreliable."
   ]
  },
  {
   "cell_type": "code",
   "execution_count": 2,
   "id": "16bfebdf",
   "metadata": {
    "scrolled": true
   },
   "outputs": [
    {
     "name": "stdout",
     "output_type": "stream",
     "text": [
      "Starting Spark application\n"
     ]
    },
    {
     "data": {
      "text/html": [
       "<table>\n",
       "<tr><th>ID</th><th>YARN Application ID</th><th>Kind</th><th>State</th><th>Spark UI</th><th>Driver log</th><th>User</th><th>Current session?</th></tr><tr><td>0</td><td>application_1668083004963_0001</td><td>pyspark</td><td>idle</td><td><a target=\"_blank\" href=\"http://ip-172-31-4-88.eu-west-1.compute.internal:20888/proxy/application_1668083004963_0001/\">Link</a></td><td><a target=\"_blank\" href=\"http://ip-172-31-9-104.eu-west-1.compute.internal:8042/node/containerlogs/container_1668083004963_0001_01_000001/livy\">Link</a></td><td>None</td><td>✔</td></tr></table>"
      ],
      "text/plain": [
       "<IPython.core.display.HTML object>"
      ]
     },
     "metadata": {},
     "output_type": "display_data"
    },
    {
     "data": {
      "application/vnd.jupyter.widget-view+json": {
       "model_id": "",
       "version_major": 2,
       "version_minor": 0
      },
      "text/plain": [
       "FloatProgress(value=0.0, bar_style='info', description='Progress:', layout=Layout(height='25px', width='50%'),…"
      ]
     },
     "metadata": {},
     "output_type": "display_data"
    },
    {
     "name": "stdout",
     "output_type": "stream",
     "text": [
      "SparkSession available as 'spark'.\n"
     ]
    },
    {
     "data": {
      "application/vnd.jupyter.widget-view+json": {
       "model_id": "",
       "version_major": 2,
       "version_minor": 0
      },
      "text/plain": [
       "FloatProgress(value=0.0, bar_style='info', description='Progress:', layout=Layout(height='25px', width='50%'),…"
      ]
     },
     "metadata": {},
     "output_type": "display_data"
    },
    {
     "name": "stdout",
     "output_type": "stream",
     "text": [
      "<pyspark.sql.session.SparkSession object at 0x7f3f23966610>"
     ]
    }
   ],
   "source": [
    "import pyspark # only run after findspark.init()\n",
    "from pyspark.sql import SparkSession\n",
    "# May take awhile locally\n",
    "spark = SparkSession.builder.appName(\"Export delta to Athena\").getOrCreate()\n",
    "spark"
   ]
  },
  {
   "cell_type": "markdown",
   "id": "509c4a6b",
   "metadata": {},
   "source": [
    "## Read listings parquet"
   ]
  },
  {
   "cell_type": "code",
   "execution_count": 4,
   "id": "12fc54ce",
   "metadata": {},
   "outputs": [
    {
     "data": {
      "application/vnd.jupyter.widget-view+json": {
       "model_id": "",
       "version_major": 2,
       "version_minor": 0
      },
      "text/plain": [
       "FloatProgress(value=0.0, bar_style='info', description='Progress:', layout=Layout(height='25px', width='50%'),…"
      ]
     },
     "metadata": {},
     "output_type": "display_data"
    }
   ],
   "source": [
    "LISTINGS_INPUT_PARQUET='s3://dt-zoli/listings.parquet/'\n",
    "LISTINGS_DELTA_LOCATION='s3://athena-delta/delta/listings.delta'\n",
    "HOSTS_DELTA_LOCATION='s3://athena-delta/delta/hosts.delta'"
   ]
  },
  {
   "cell_type": "code",
   "execution_count": 6,
   "id": "b5f026b0",
   "metadata": {},
   "outputs": [
    {
     "data": {
      "application/vnd.jupyter.widget-view+json": {
       "model_id": "",
       "version_major": 2,
       "version_minor": 0
      },
      "text/plain": [
       "FloatProgress(value=0.0, bar_style='info', description='Progress:', layout=Layout(height='25px', width='50%'),…"
      ]
     },
     "metadata": {},
     "output_type": "display_data"
    },
    {
     "name": "stdout",
     "output_type": "stream",
     "text": [
      "root\n",
      " |-- id: integer (nullable = true)\n",
      " |-- listing_url: string (nullable = true)\n",
      " |-- name: string (nullable = true)\n",
      " |-- room_type: string (nullable = true)\n",
      " |-- minimum_nights: integer (nullable = true)\n",
      " |-- host_id: integer (nullable = true)\n",
      " |-- price: string (nullable = true)\n",
      " |-- created_at: string (nullable = true)\n",
      " |-- updated_at: string (nullable = true)"
     ]
    }
   ],
   "source": [
    "df = spark.read.parquet(LISTINGS_INPUT_PARQUET)\n",
    "df.printSchema()"
   ]
  },
  {
   "cell_type": "code",
   "execution_count": 7,
   "id": "a174668c",
   "metadata": {},
   "outputs": [
    {
     "data": {
      "application/vnd.jupyter.widget-view+json": {
       "model_id": "",
       "version_major": 2,
       "version_minor": 0
      },
      "text/plain": [
       "FloatProgress(value=0.0, bar_style='info', description='Progress:', layout=Layout(height='25px', width='50%'),…"
      ]
     },
     "metadata": {},
     "output_type": "display_data"
    },
    {
     "name": "stdout",
     "output_type": "stream",
     "text": [
      "This delta file will have 3 partitions."
     ]
    }
   ],
   "source": [
    "print(f'This delta file will have {df.rdd.getNumPartitions()} partitions.')"
   ]
  },
  {
   "cell_type": "markdown",
   "id": "aab926a3",
   "metadata": {},
   "source": [
    "## Write into Delta"
   ]
  },
  {
   "cell_type": "code",
   "execution_count": 8,
   "id": "a6a06a88",
   "metadata": {},
   "outputs": [
    {
     "data": {
      "application/vnd.jupyter.widget-view+json": {
       "model_id": "",
       "version_major": 2,
       "version_minor": 0
      },
      "text/plain": [
       "FloatProgress(value=0.0, bar_style='info', description='Progress:', layout=Layout(height='25px', width='50%'),…"
      ]
     },
     "metadata": {},
     "output_type": "display_data"
    }
   ],
   "source": [
    "df.write.format('delta').save(LISTINGS_DELTA_LOCATION)"
   ]
  },
  {
   "cell_type": "code",
   "execution_count": 9,
   "id": "6062e0d1",
   "metadata": {},
   "outputs": [
    {
     "data": {
      "application/vnd.jupyter.widget-view+json": {
       "model_id": "",
       "version_major": 2,
       "version_minor": 0
      },
      "text/plain": [
       "FloatProgress(value=0.0, bar_style='info', description='Progress:', layout=Layout(height='25px', width='50%'),…"
      ]
     },
     "metadata": {},
     "output_type": "display_data"
    }
   ],
   "source": [
    "def q(s): return spark.sql(s)"
   ]
  },
  {
   "cell_type": "markdown",
   "id": "6fc3583b",
   "metadata": {},
   "source": [
    "## Register listings as a table and execute a few queries "
   ]
  },
  {
   "cell_type": "code",
   "execution_count": 11,
   "id": "6b53f48c",
   "metadata": {},
   "outputs": [
    {
     "data": {
      "application/vnd.jupyter.widget-view+json": {
       "model_id": "",
       "version_major": 2,
       "version_minor": 0
      },
      "text/plain": [
       "FloatProgress(value=0.0, bar_style='info', description='Progress:', layout=Layout(height='25px', width='50%'),…"
      ]
     },
     "metadata": {},
     "output_type": "display_data"
    },
    {
     "name": "stdout",
     "output_type": "stream",
     "text": [
      "DataFrame[]"
     ]
    }
   ],
   "source": [
    "q(f\"DROP TABLE IF EXISTS my_table\")\n",
    "q(f\"CREATE TABLE my_table USING DELTA LOCATION '{LISTINGS_DELTA_LOCATION}'\")"
   ]
  },
  {
   "cell_type": "code",
   "execution_count": 12,
   "id": "b37a5c61",
   "metadata": {},
   "outputs": [
    {
     "data": {
      "application/vnd.jupyter.widget-view+json": {
       "model_id": "",
       "version_major": 2,
       "version_minor": 0
      },
      "text/plain": [
       "FloatProgress(value=0.0, bar_style='info', description='Progress:', layout=Layout(height='25px', width='50%'),…"
      ]
     },
     "metadata": {},
     "output_type": "display_data"
    },
    {
     "name": "stdout",
     "output_type": "stream",
     "text": [
      "+----------------------------+---------------------------------------------------+-------+\n",
      "|col_name                    |data_type                                          |comment|\n",
      "+----------------------------+---------------------------------------------------+-------+\n",
      "|id                          |int                                                |       |\n",
      "|listing_url                 |string                                             |       |\n",
      "|name                        |string                                             |       |\n",
      "|room_type                   |string                                             |       |\n",
      "|minimum_nights              |int                                                |       |\n",
      "|host_id                     |int                                                |       |\n",
      "|price                       |string                                             |       |\n",
      "|created_at                  |string                                             |       |\n",
      "|updated_at                  |string                                             |       |\n",
      "|                            |                                                   |       |\n",
      "|# Partitioning              |                                                   |       |\n",
      "|Not partitioned             |                                                   |       |\n",
      "|                            |                                                   |       |\n",
      "|# Detailed Table Information|                                                   |       |\n",
      "|Name                        |default.my_table                                   |       |\n",
      "|Location                    |s3://athena-delta/delta/listings.delta             |       |\n",
      "|Provider                    |delta                                              |       |\n",
      "|Owner                       |livy                                               |       |\n",
      "|External                    |true                                               |       |\n",
      "|Table Properties            |[delta.minReaderVersion=1,delta.minWriterVersion=2]|       |\n",
      "+----------------------------+---------------------------------------------------+-------+"
     ]
    }
   ],
   "source": [
    "q('DESCRIBE EXTENDED my_table').show(truncate=False)"
   ]
  },
  {
   "cell_type": "code",
   "execution_count": 13,
   "id": "54b4290d",
   "metadata": {},
   "outputs": [
    {
     "data": {
      "application/vnd.jupyter.widget-view+json": {
       "model_id": "",
       "version_major": 2,
       "version_minor": 0
      },
      "text/plain": [
       "FloatProgress(value=0.0, bar_style='info', description='Progress:', layout=Layout(height='25px', width='50%'),…"
      ]
     },
     "metadata": {},
     "output_type": "display_data"
    },
    {
     "name": "stdout",
     "output_type": "stream",
     "text": [
      "+-----+--------------------+--------------------+---------------+--------------+-------+-------+--------------------+--------------------+\n",
      "|   id|         listing_url|                name|      room_type|minimum_nights|host_id|  price|          created_at|          updated_at|\n",
      "+-----+--------------------+--------------------+---------------+--------------+-------+-------+--------------------+--------------------+\n",
      "| 3176|https://www.airbn...|Fabulous Flat in ...|Entire home/apt|            62|   3718| $90.00|2009-06-05T21:34:42Z|2009-06-05T21:34:42Z|\n",
      "| 7071|https://www.airbn...|BrightRoom with s...|   Private room|             1|  17391| $33.00|2009-08-12T12:30:30Z|2009-08-12T12:30:30Z|\n",
      "| 9991|https://www.airbn...|Geourgeous flat -...|Entire home/apt|             0|  33852|$180.00|2015-07-30T05:08:52Z|2015-07-30T05:08:52Z|\n",
      "|14325|https://www.airbn...|Apartment in Pren...|Entire home/apt|            95|  55531| $70.00|2010-06-15T19:56:01Z|2010-06-15T19:56:01Z|\n",
      "|16644|https://www.airbn...|In the Heart of B...|Entire home/apt|            60|  64696| $90.00|2010-05-30T12:11:33Z|2010-05-30T12:11:33Z|\n",
      "|17904|https://www.airbn...|Beautiful Kreuzbe...|Entire home/apt|            92|  68997| $47.00|2010-02-08T17:23:48Z|2010-02-08T17:23:48Z|\n",
      "|20858|https://www.airbn...|Designer Loft in ...|Entire home/apt|             3|  71331|$169.00|2012-09-24T21:03:01Z|2012-09-24T21:03:01Z|\n",
      "|21869|https://www.airbn...|Studio in the Hea...|Entire home/apt|            60|  64696| $70.00|2010-09-08T11:45:56Z|2010-09-08T11:45:56Z|\n",
      "|22438|https://www.airbn...|WOHNUNG IN BERLIN...|Entire home/apt|            90|  86159| $65.00|2011-03-31T17:17:58Z|2011-03-31T17:17:58Z|\n",
      "|22677|https://www.airbn...|Prenzel garden wi...|Entire home/apt|             2|  87357|$120.00|2010-10-08T08:59:12Z|2010-10-08T08:59:12Z|\n",
      "|23834|https://www.airbn...|Apartment in the ...|Entire home/apt|           185|  94918| $65.00|2010-05-26T11:58:00Z|2010-05-26T11:58:00Z|\n",
      "|24569|https://www.airbn...|Sunny & Wheelchai...|Entire home/apt|             5|  99662|$200.00|2010-09-18T04:06:39Z|2010-09-18T04:06:39Z|\n",
      "|26543|https://www.airbn...|Helmholtzplatz Br...|Entire home/apt|            60| 112675|$208.00|2010-08-03T02:49:12Z|2010-08-03T02:49:12Z|\n",
      "|28156|https://www.airbn...|Beautiful apartme...|Entire home/apt|            95|  55531| $80.00|2010-11-09T05:01:07Z|2010-11-09T05:01:07Z|\n",
      "|29279|https://www.airbn...|Quiet 2 rooms nex...|Entire home/apt|            92|  54283| $80.00|2010-09-27T10:29:48Z|2010-09-27T10:29:48Z|\n",
      "|30295|https://www.airbn...|PEACEFUL FLAT WIT...|Entire home/apt|             4| 485838|$109.00|2010-09-03T11:51:19Z|2010-09-03T11:51:19Z|\n",
      "|33043|https://www.airbn...|Central Bright Be...|Entire home/apt|             3| 143180| $62.00|2010-08-16T15:09:42Z|2010-08-16T15:09:42Z|\n",
      "|35152|https://www.airbn...|Private Room w/ o...|   Private room|             2| 151248| $78.00|2011-06-05T15:14:50Z|2011-06-05T15:14:50Z|\n",
      "|37004|https://www.airbn...|WONDERFUL ROOM fo...|   Private room|            10| 159734| $37.00|2010-07-22T02:38:14Z|2010-07-22T02:38:14Z|\n",
      "|37554|https://www.airbn...|More central+calm...|Entire home/apt|             5| 161823| $19.00|2016-07-10T09:55:31Z|2016-07-10T09:55:31Z|\n",
      "+-----+--------------------+--------------------+---------------+--------------+-------+-------+--------------------+--------------------+\n",
      "only showing top 20 rows"
     ]
    }
   ],
   "source": [
    "q('SELECT * FROM my_table').show()"
   ]
  },
  {
   "cell_type": "code",
   "execution_count": 15,
   "id": "a4f84557",
   "metadata": {},
   "outputs": [
    {
     "data": {
      "application/vnd.jupyter.widget-view+json": {
       "model_id": "",
       "version_major": 2,
       "version_minor": 0
      },
      "text/plain": [
       "FloatProgress(value=0.0, bar_style='info', description='Progress:', layout=Layout(height='25px', width='50%'),…"
      ]
     },
     "metadata": {},
     "output_type": "display_data"
    }
   ],
   "source": [
    "prDF = q(\"SELECT * FROM my_table WHERE room_type='Private room'\")\n",
    "prDF.write.format('delta').mode('overwrite').save(LISTINGS_DELTA_LOCATION)"
   ]
  },
  {
   "cell_type": "code",
   "execution_count": 16,
   "id": "6d6b4127",
   "metadata": {},
   "outputs": [
    {
     "data": {
      "application/vnd.jupyter.widget-view+json": {
       "model_id": "",
       "version_major": 2,
       "version_minor": 0
      },
      "text/plain": [
       "FloatProgress(value=0.0, bar_style='info', description='Progress:', layout=Layout(height='25px', width='50%'),…"
      ]
     },
     "metadata": {},
     "output_type": "display_data"
    },
    {
     "name": "stdout",
     "output_type": "stream",
     "text": [
      "+-------+-------------------+------+--------+---------+--------------------+----+--------+---------+-----------+--------------+-------------+--------------------+------------+--------------------+\n",
      "|version|          timestamp|userId|userName|operation| operationParameters| job|notebook|clusterId|readVersion|isolationLevel|isBlindAppend|    operationMetrics|userMetadata|          engineInfo|\n",
      "+-------+-------------------+------+--------+---------+--------------------+----+--------+---------+-----------+--------------+-------------+--------------------+------------+--------------------+\n",
      "|      1|2022-11-10 14:30:02|  null|    null|    WRITE|{mode -> Overwrit...|null|    null|     null|          0|  Serializable|        false|{numFiles -> 3, n...|        null|Apache-Spark/3.3....|\n",
      "|      0|2022-11-10 14:19:57|  null|    null|    WRITE|{mode -> ErrorIfE...|null|    null|     null|       null|  Serializable|         true|{numFiles -> 3, n...|        null|Apache-Spark/3.3....|\n",
      "+-------+-------------------+------+--------+---------+--------------------+----+--------+---------+-----------+--------------+-------------+--------------------+------------+--------------------+"
     ]
    }
   ],
   "source": [
    "q('DESCRIBE HISTORY my_table').show()"
   ]
  },
  {
   "cell_type": "code",
   "execution_count": 17,
   "id": "319ef876",
   "metadata": {},
   "outputs": [
    {
     "data": {
      "application/vnd.jupyter.widget-view+json": {
       "model_id": "",
       "version_major": 2,
       "version_minor": 0
      },
      "text/plain": [
       "FloatProgress(value=0.0, bar_style='info', description='Progress:', layout=Layout(height='25px', width='50%'),…"
      ]
     },
     "metadata": {},
     "output_type": "display_data"
    },
    {
     "name": "stdout",
     "output_type": "stream",
     "text": [
      "+-------+-------------------+---------+------------------------------------------+\n",
      "|version|timestamp          |operation|operationParameters                       |\n",
      "+-------+-------------------+---------+------------------------------------------+\n",
      "|1      |2022-11-10 14:30:02|WRITE    |{mode -> Overwrite, partitionBy -> []}    |\n",
      "|0      |2022-11-10 14:19:57|WRITE    |{mode -> ErrorIfExists, partitionBy -> []}|\n",
      "+-------+-------------------+---------+------------------------------------------+"
     ]
    }
   ],
   "source": [
    "hist_df = q('DESCRIBE HISTORY my_table')\n",
    "hist_df.select('version', 'timestamp', 'operation', 'operationParameters').show(truncate=False)"
   ]
  },
  {
   "cell_type": "code",
   "execution_count": 18,
   "id": "95418b8f",
   "metadata": {},
   "outputs": [
    {
     "data": {
      "application/vnd.jupyter.widget-view+json": {
       "model_id": "",
       "version_major": 2,
       "version_minor": 0
      },
      "text/plain": [
       "FloatProgress(value=0.0, bar_style='info', description='Progress:', layout=Layout(height='25px', width='50%'),…"
      ]
     },
     "metadata": {},
     "output_type": "display_data"
    },
    {
     "name": "stdout",
     "output_type": "stream",
     "text": [
      "+--------+--------------------+--------------------+------------+--------------+--------+------+--------------------+--------------------+\n",
      "|      id|         listing_url|                name|   room_type|minimum_nights| host_id| price|          created_at|          updated_at|\n",
      "+--------+--------------------+--------------------+------------+--------------+--------+------+--------------------+--------------------+\n",
      "|28677551|https://www.airbn...|Cozy Room and nic...|Private room|          1000|30298984|$20.00|2021-11-13T10:10:47Z|2021-11-13T10:10:47Z|\n",
      "|17836549|https://www.airbn...|Cozy room in spac...|Private room|          1000| 9194512|$45.00|2017-04-06T12:21:49Z|2017-04-06T12:21:49Z|\n",
      "|  584757|https://www.airbn...|Nice room trendy ...|Private room|          1000| 2881484|$20.00|2012-08-02T23:58:30Z|2012-08-02T23:58:30Z|\n",
      "| 4003140|https://www.airbn...|85m² flat near by...|Private room|           500| 5781298|$70.00|2014-09-17T11:46:36Z|2014-09-17T11:46:36Z|\n",
      "| 6704144|https://www.airbn...|Spacious room nea...|Private room|          1000|13498367|$19.00|2015-06-08T07:00:16Z|2015-06-08T07:00:16Z|\n",
      "+--------+--------------------+--------------------+------------+--------------+--------+------+--------------------+--------------------+"
     ]
    }
   ],
   "source": [
    "q(\"SELECT * FROM my_table WHERE minimum_nights > 365\").show()"
   ]
  },
  {
   "cell_type": "code",
   "execution_count": 19,
   "id": "944dd507",
   "metadata": {},
   "outputs": [
    {
     "data": {
      "application/vnd.jupyter.widget-view+json": {
       "model_id": "",
       "version_major": 2,
       "version_minor": 0
      },
      "text/plain": [
       "FloatProgress(value=0.0, bar_style='info', description='Progress:', layout=Layout(height='25px', width='50%'),…"
      ]
     },
     "metadata": {},
     "output_type": "display_data"
    },
    {
     "name": "stdout",
     "output_type": "stream",
     "text": [
      "DataFrame[num_affected_rows: bigint]"
     ]
    }
   ],
   "source": [
    "q(\"DELETE FROM my_table WHERE minimum_nights > 365\")"
   ]
  },
  {
   "cell_type": "code",
   "execution_count": 20,
   "id": "4b145d23",
   "metadata": {},
   "outputs": [
    {
     "data": {
      "application/vnd.jupyter.widget-view+json": {
       "model_id": "",
       "version_major": 2,
       "version_minor": 0
      },
      "text/plain": [
       "FloatProgress(value=0.0, bar_style='info', description='Progress:', layout=Layout(height='25px', width='50%'),…"
      ]
     },
     "metadata": {},
     "output_type": "display_data"
    },
    {
     "name": "stdout",
     "output_type": "stream",
     "text": [
      "+--------+--------------------+--------------------+------------+--------------+---------+-------+--------------------+--------------------+\n",
      "|      id|         listing_url|                name|   room_type|minimum_nights|  host_id|  price|          created_at|          updated_at|\n",
      "+--------+--------------------+--------------------+------------+--------------+---------+-------+--------------------+--------------------+\n",
      "|25049412|https://www.airbn...|Cozy & Bright Roo...|Private room|             0| 11324576| $50.00|2018-09-20T08:36:07Z|2018-09-20T08:36:07Z|\n",
      "|27655569|https://www.airbn...|Sunny room in the...|Private room|             0|117446866| $18.00|2018-08-07T08:48:22Z|2018-08-07T08:48:22Z|\n",
      "|27774847|https://www.airbn...|Perfect big room ...|Private room|             0|102845594| $40.00|2018-08-04T10:25:43Z|2018-08-04T10:25:43Z|\n",
      "|28753356|https://www.airbn...|Nice Flat in Berl...|Private room|             0|216880791| $35.00|2019-05-13T12:29:12Z|2019-05-13T12:29:12Z|\n",
      "|29501017|https://www.airbn...|Private 40sqm roo...|Private room|             0| 51713592| $60.00|2018-11-02T07:21:28Z|2018-11-02T07:21:28Z|\n",
      "|30750273|https://www.airbn...|Cozy room in the ...|Private room|             0|159953124| $36.00|2018-12-14T03:42:47Z|2018-12-14T03:42:47Z|\n",
      "|30945499|https://www.airbn...|Single Bed Room C...|Private room|             0|216867611|$107.00|2019-04-08T13:55:48Z|2019-04-08T13:55:48Z|\n",
      "|33395608|https://www.airbn...|Large private roo...|Private room|             0| 56349256| $38.00|2019-06-03T21:13:40Z|2019-06-03T21:13:40Z|\n",
      "|17541847|https://www.airbn...|Cosy Room close t...|Private room|             0|113521135| $35.00|2017-03-06T21:19:15Z|2017-03-06T21:19:15Z|\n",
      "|18883832|https://www.airbn...|wunderschöne Wohn...|Private room|             0| 75762814| $15.00|2017-05-24T04:44:15Z|2017-05-24T04:44:15Z|\n",
      "|20628435|https://www.airbn...|Bright room in Kr...|Private room|             0|147476710| $50.00|2017-08-16T05:20:00Z|2017-08-16T05:20:00Z|\n",
      "|21806760|https://www.airbn...|Schöne 2 Zimmerwo...|Private room|             0| 21116374| $45.00|2018-03-02T15:37:11Z|2018-03-02T15:37:11Z|\n",
      "|22457317|https://www.airbn...|Großes Zimmer mit...|Private room|             0| 31302562| $30.00|2017-12-25T11:27:25Z|2017-12-25T11:27:25Z|\n",
      "|  793067|https://www.airbn...|Beautiful roof-to...|Private room|             0|  3305339| $60.00|2014-08-08T16:53:03Z|2014-08-08T16:53:03Z|\n",
      "| 3815815|https://www.airbn...|   Berlin Schöneberg|Private room|             0| 19620778| $23.00|2014-08-17T05:44:26Z|2014-08-17T05:44:26Z|\n",
      "| 4556488|https://www.airbn...|Balcony room in N...|Private room|             0| 15753705| $33.00|2021-11-13T08:11:18Z|2021-11-13T08:11:18Z|\n",
      "| 5394359|https://www.airbn...|Cosy room with 2 ...|Private room|             0| 27962053| $31.00|2015-07-08T08:35:17Z|2015-07-08T08:35:17Z|\n",
      "| 6098801|https://www.airbn...|Nice, bright room...|Private room|             0| 31647635| $25.00|2021-11-16T11:20:22Z|2021-11-16T11:20:22Z|\n",
      "| 7194371|https://www.airbn...|Balkonzimmer im P...|Private room|             0| 37675444| $23.00|2017-09-02T13:18:33Z|2017-09-02T13:18:33Z|\n",
      "| 8433730|https://www.airbn...|ruhige, helle Woh...|Private room|             0| 44408086|$100.00|2021-10-25T20:30:14Z|2021-10-25T20:30:14Z|\n",
      "+--------+--------------------+--------------------+------------+--------------+---------+-------+--------------------+--------------------+\n",
      "only showing top 20 rows"
     ]
    }
   ],
   "source": [
    "q(\"SELECT * FROM my_table WHERE minimum_nights < 1\").show()"
   ]
  },
  {
   "cell_type": "code",
   "execution_count": 21,
   "id": "6345e4ae",
   "metadata": {},
   "outputs": [
    {
     "data": {
      "application/vnd.jupyter.widget-view+json": {
       "model_id": "",
       "version_major": 2,
       "version_minor": 0
      },
      "text/plain": [
       "FloatProgress(value=0.0, bar_style='info', description='Progress:', layout=Layout(height='25px', width='50%'),…"
      ]
     },
     "metadata": {},
     "output_type": "display_data"
    },
    {
     "name": "stdout",
     "output_type": "stream",
     "text": [
      "DataFrame[num_affected_rows: bigint]"
     ]
    }
   ],
   "source": [
    "q(\"UPDATE my_table set minimum_nights = 1 WHERE minimum_nights < 1\")"
   ]
  },
  {
   "cell_type": "code",
   "execution_count": 22,
   "id": "4bd5a03b",
   "metadata": {},
   "outputs": [
    {
     "data": {
      "application/vnd.jupyter.widget-view+json": {
       "model_id": "",
       "version_major": 2,
       "version_minor": 0
      },
      "text/plain": [
       "FloatProgress(value=0.0, bar_style='info', description='Progress:', layout=Layout(height='25px', width='50%'),…"
      ]
     },
     "metadata": {},
     "output_type": "display_data"
    },
    {
     "name": "stdout",
     "output_type": "stream",
     "text": [
      "+-------+-------------------+---------+------------------------------------------------------------------------+\n",
      "|version|timestamp          |operation|operationParameters                                                     |\n",
      "+-------+-------------------+---------+------------------------------------------------------------------------+\n",
      "|3      |2022-11-10 14:36:39|UPDATE   |{predicate -> (minimum_nights#2637 < 1)}                                |\n",
      "|2      |2022-11-10 14:36:14|DELETE   |{predicate -> [\"(spark_catalog.default.my_table.minimum_nights > 365)\"]}|\n",
      "|1      |2022-11-10 14:30:02|WRITE    |{mode -> Overwrite, partitionBy -> []}                                  |\n",
      "|0      |2022-11-10 14:19:57|WRITE    |{mode -> ErrorIfExists, partitionBy -> []}                              |\n",
      "+-------+-------------------+---------+------------------------------------------------------------------------+"
     ]
    }
   ],
   "source": [
    "hist_df = q('DESCRIBE HISTORY my_table')\n",
    "hist_df.select('version', 'timestamp', 'operation', 'operationParameters').show(truncate=False)"
   ]
  },
  {
   "cell_type": "code",
   "execution_count": 23,
   "id": "a630be15",
   "metadata": {},
   "outputs": [
    {
     "data": {
      "application/vnd.jupyter.widget-view+json": {
       "model_id": "",
       "version_major": 2,
       "version_minor": 0
      },
      "text/plain": [
       "FloatProgress(value=0.0, bar_style='info', description='Progress:', layout=Layout(height='25px', width='50%'),…"
      ]
     },
     "metadata": {},
     "output_type": "display_data"
    },
    {
     "name": "stdout",
     "output_type": "stream",
     "text": [
      "+-----+--------------------+--------------------+---------------+--------------+-------+-------+--------------------+--------------------+\n",
      "|   id|         listing_url|                name|      room_type|minimum_nights|host_id|  price|          created_at|          updated_at|\n",
      "+-----+--------------------+--------------------+---------------+--------------+-------+-------+--------------------+--------------------+\n",
      "| 3176|https://www.airbn...|Fabulous Flat in ...|Entire home/apt|            62|   3718| $90.00|2009-06-05T21:34:42Z|2009-06-05T21:34:42Z|\n",
      "| 7071|https://www.airbn...|BrightRoom with s...|   Private room|             1|  17391| $33.00|2009-08-12T12:30:30Z|2009-08-12T12:30:30Z|\n",
      "| 9991|https://www.airbn...|Geourgeous flat -...|Entire home/apt|             0|  33852|$180.00|2015-07-30T05:08:52Z|2015-07-30T05:08:52Z|\n",
      "|14325|https://www.airbn...|Apartment in Pren...|Entire home/apt|            95|  55531| $70.00|2010-06-15T19:56:01Z|2010-06-15T19:56:01Z|\n",
      "|16644|https://www.airbn...|In the Heart of B...|Entire home/apt|            60|  64696| $90.00|2010-05-30T12:11:33Z|2010-05-30T12:11:33Z|\n",
      "|17904|https://www.airbn...|Beautiful Kreuzbe...|Entire home/apt|            92|  68997| $47.00|2010-02-08T17:23:48Z|2010-02-08T17:23:48Z|\n",
      "|20858|https://www.airbn...|Designer Loft in ...|Entire home/apt|             3|  71331|$169.00|2012-09-24T21:03:01Z|2012-09-24T21:03:01Z|\n",
      "|21869|https://www.airbn...|Studio in the Hea...|Entire home/apt|            60|  64696| $70.00|2010-09-08T11:45:56Z|2010-09-08T11:45:56Z|\n",
      "|22438|https://www.airbn...|WOHNUNG IN BERLIN...|Entire home/apt|            90|  86159| $65.00|2011-03-31T17:17:58Z|2011-03-31T17:17:58Z|\n",
      "|22677|https://www.airbn...|Prenzel garden wi...|Entire home/apt|             2|  87357|$120.00|2010-10-08T08:59:12Z|2010-10-08T08:59:12Z|\n",
      "|23834|https://www.airbn...|Apartment in the ...|Entire home/apt|           185|  94918| $65.00|2010-05-26T11:58:00Z|2010-05-26T11:58:00Z|\n",
      "|24569|https://www.airbn...|Sunny & Wheelchai...|Entire home/apt|             5|  99662|$200.00|2010-09-18T04:06:39Z|2010-09-18T04:06:39Z|\n",
      "|26543|https://www.airbn...|Helmholtzplatz Br...|Entire home/apt|            60| 112675|$208.00|2010-08-03T02:49:12Z|2010-08-03T02:49:12Z|\n",
      "|28156|https://www.airbn...|Beautiful apartme...|Entire home/apt|            95|  55531| $80.00|2010-11-09T05:01:07Z|2010-11-09T05:01:07Z|\n",
      "|29279|https://www.airbn...|Quiet 2 rooms nex...|Entire home/apt|            92|  54283| $80.00|2010-09-27T10:29:48Z|2010-09-27T10:29:48Z|\n",
      "|30295|https://www.airbn...|PEACEFUL FLAT WIT...|Entire home/apt|             4| 485838|$109.00|2010-09-03T11:51:19Z|2010-09-03T11:51:19Z|\n",
      "|33043|https://www.airbn...|Central Bright Be...|Entire home/apt|             3| 143180| $62.00|2010-08-16T15:09:42Z|2010-08-16T15:09:42Z|\n",
      "|35152|https://www.airbn...|Private Room w/ o...|   Private room|             2| 151248| $78.00|2011-06-05T15:14:50Z|2011-06-05T15:14:50Z|\n",
      "|37004|https://www.airbn...|WONDERFUL ROOM fo...|   Private room|            10| 159734| $37.00|2010-07-22T02:38:14Z|2010-07-22T02:38:14Z|\n",
      "|37554|https://www.airbn...|More central+calm...|Entire home/apt|             5| 161823| $19.00|2016-07-10T09:55:31Z|2016-07-10T09:55:31Z|\n",
      "+-----+--------------------+--------------------+---------------+--------------+-------+-------+--------------------+--------------------+\n",
      "only showing top 20 rows"
     ]
    }
   ],
   "source": [
    "q('SELECT * FROM my_table VERSION AS OF 0').show()"
   ]
  },
  {
   "cell_type": "code",
   "execution_count": 25,
   "id": "f7bf5c43",
   "metadata": {},
   "outputs": [
    {
     "data": {
      "application/vnd.jupyter.widget-view+json": {
       "model_id": "",
       "version_major": 2,
       "version_minor": 0
      },
      "text/plain": [
       "FloatProgress(value=0.0, bar_style='info', description='Progress:', layout=Layout(height='25px', width='50%'),…"
      ]
     },
     "metadata": {},
     "output_type": "display_data"
    },
    {
     "name": "stdout",
     "output_type": "stream",
     "text": [
      "Generated Manifest file at s3://athena-delta/delta/listings.delta/_symlink_format_manifest"
     ]
    }
   ],
   "source": [
    "from delta import DeltaTable\n",
    "\n",
    "deltaTable = DeltaTable.forPath(spark, path=LISTINGS_DELTA_LOCATION)\n",
    "deltaTable.generate(\"symlink_format_manifest\")\n",
    "\n",
    "print(f'Generated Manifest file at {LISTINGS_DELTA_LOCATION}/_symlink_format_manifest')"
   ]
  },
  {
   "cell_type": "code",
   "execution_count": 26,
   "id": "50e1ee0e",
   "metadata": {},
   "outputs": [
    {
     "data": {
      "application/vnd.jupyter.widget-view+json": {
       "model_id": "",
       "version_major": 2,
       "version_minor": 0
      },
      "text/plain": [
       "FloatProgress(value=0.0, bar_style='info', description='Progress:', layout=Layout(height='25px', width='50%'),…"
      ]
     },
     "metadata": {},
     "output_type": "display_data"
    },
    {
     "name": "stdout",
     "output_type": "stream",
     "text": [
      "+--------------------+--------------------+\n",
      "|                path|             metrics|\n",
      "+--------------------+--------------------+\n",
      "|s3://athena-delta...|{1, 3, {424100, 4...|\n",
      "+--------------------+--------------------+"
     ]
    }
   ],
   "source": [
    "q('OPTIMIZE my_table').show()"
   ]
  },
  {
   "cell_type": "markdown",
   "id": "672c153c",
   "metadata": {},
   "source": [
    "# Load hosts.csv and save as delta"
   ]
  },
  {
   "cell_type": "code",
   "execution_count": 4,
   "id": "e6423b9a",
   "metadata": {},
   "outputs": [
    {
     "data": {
      "application/vnd.jupyter.widget-view+json": {
       "model_id": "",
       "version_major": 2,
       "version_minor": 0
      },
      "text/plain": [
       "FloatProgress(value=0.0, bar_style='info', description='Progress:', layout=Layout(height='25px', width='50%'),…"
      ]
     },
     "metadata": {},
     "output_type": "display_data"
    },
    {
     "name": "stdout",
     "output_type": "stream",
     "text": [
      "+-----+--------------+------------+-------------------+-------------------+\n",
      "|   id|          name|is_superhost|         created_at|         updated_at|\n",
      "+-----+--------------+------------+-------------------+-------------------+\n",
      "| 1581|       Annette|           f|2014-01-05 16:12:45|2014-01-05 16:12:45|\n",
      "| 2164|         Lulah|           t|2013-07-31 23:29:31|2013-07-31 23:29:31|\n",
      "| 2217|           Ion|           t|2017-10-17 05:20:28|2017-10-17 05:20:28|\n",
      "| 3718|        Britta|           f|2009-06-05 21:34:42|2009-06-05 21:34:42|\n",
      "|11622|         Maria|           f|2021-10-24 02:42:09|2021-10-24 02:42:09|\n",
      "|12360|       Michael|           t|2017-08-27 12:08:43|2017-08-27 12:08:43|\n",
      "|12424|       Mariana|           f|2021-11-08 17:27:31|2021-11-08 17:27:31|\n",
      "|15115|     Christian|           f|2015-01-03 17:53:53|2015-01-03 17:53:53|\n",
      "|17391|    BrightRoom|           t|2009-08-12 12:30:30|2009-08-12 12:30:30|\n",
      "|22901|        Hannes|           f|2013-07-06 11:09:47|2013-07-06 11:09:47|\n",
      "|32299|         Simon|           f|2021-11-15 21:27:50|2021-11-15 21:27:50|\n",
      "|32918|      Patricia|           f|2017-02-28 21:08:27|2017-02-28 21:08:27|\n",
      "|33355|          Doug|           f|2013-05-30 16:36:37|2013-05-30 16:36:37|\n",
      "|33852|       Philipp|           f|2015-07-30 05:08:52|2015-07-30 05:08:52|\n",
      "|35103|         Kamal|           f|2017-12-04 04:25:58|2017-12-04 04:25:58|\n",
      "|48159|        Tracey|           f|2019-06-04 22:26:33|2019-06-04 22:26:33|\n",
      "|54283|        Marine|           t|2010-09-27 10:29:48|2010-09-27 10:29:48|\n",
      "|55531|Chris + Oliver|           t|2010-06-15 19:56:01|2010-06-15 19:56:01|\n",
      "|60495|          Inga|           f|2021-10-29 07:55:08|2021-10-29 07:55:08|\n",
      "|64696|          Rene|           f|2010-05-30 12:11:33|2010-05-30 12:11:33|\n",
      "+-----+--------------+------------+-------------------+-------------------+\n",
      "only showing top 20 rows\n",
      "\n",
      "root\n",
      " |-- id: integer (nullable = true)\n",
      " |-- name: string (nullable = true)\n",
      " |-- is_superhost: string (nullable = true)\n",
      " |-- created_at: string (nullable = true)\n",
      " |-- updated_at: string (nullable = true)"
     ]
    }
   ],
   "source": [
    "hosts = spark.read.csv('s3://nordquant/athena/airbnb/hosts/hosts.csv', header=True, \n",
    "                       schema=\"id INT, name STRING, is_superhost STRING, created_at STRING, updated_at STRING\")\n",
    "hosts.show()\n",
    "hosts.printSchema()"
   ]
  },
  {
   "cell_type": "code",
   "execution_count": 6,
   "id": "5fa30315",
   "metadata": {},
   "outputs": [
    {
     "data": {
      "application/vnd.jupyter.widget-view+json": {
       "model_id": "",
       "version_major": 2,
       "version_minor": 0
      },
      "text/plain": [
       "FloatProgress(value=0.0, bar_style='info', description='Progress:', layout=Layout(height='25px', width='50%'),…"
      ]
     },
     "metadata": {},
     "output_type": "display_data"
    }
   ],
   "source": [
    "hosts.write.format(\"delta\").mode(\"overwrite\").option('overwriteSchema', True).save(HOSTS_DELTA_LOCATION)"
   ]
  },
  {
   "cell_type": "code",
   "execution_count": 8,
   "id": "45786639",
   "metadata": {},
   "outputs": [
    {
     "data": {
      "application/vnd.jupyter.widget-view+json": {
       "model_id": "",
       "version_major": 2,
       "version_minor": 0
      },
      "text/plain": [
       "FloatProgress(value=0.0, bar_style='info', description='Progress:', layout=Layout(height='25px', width='50%'),…"
      ]
     },
     "metadata": {},
     "output_type": "display_data"
    },
    {
     "name": "stdout",
     "output_type": "stream",
     "text": [
      "Generated Manifest file at s3://athena-delta/delta/hosts.delta/_symlink_format_manifest"
     ]
    }
   ],
   "source": [
    "from delta import DeltaTable\n",
    "\n",
    "deltaTable = DeltaTable.forPath(spark, path=HOSTS_DELTA_LOCATION)\n",
    "deltaTable.generate(\"symlink_format_manifest\")\n",
    "\n",
    "print(f'Generated Manifest file at {HOSTS_DELTA_LOCATION}/_symlink_format_manifest')"
   ]
  }
 ],
 "metadata": {
  "kernelspec": {
   "display_name": "PySpark",
   "language": "python",
   "name": "pysparkkernel"
  },
  "language_info": {
   "codemirror_mode": {
    "name": "python",
    "version": 3
   },
   "file_extension": ".py",
   "mimetype": "text/x-python",
   "name": "pyspark",
   "pygments_lexer": "python3"
  }
 },
 "nbformat": 4,
 "nbformat_minor": 5
}
