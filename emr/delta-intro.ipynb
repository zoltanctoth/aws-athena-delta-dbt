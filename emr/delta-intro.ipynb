{
 "cells": [
  {
   "cell_type": "markdown",
   "id": "d8672e11",
   "metadata": {},
   "source": [
    "# Working with Delta on EMR and Athena"
   ]
  },
  {
   "cell_type": "markdown",
   "id": "d43b8d15",
   "metadata": {},
   "source": [
    "## Add Delta Support to Spark"
   ]
  },
  {
   "cell_type": "code",
   "execution_count": null,
   "id": "388e87b3",
   "metadata": {},
   "outputs": [],
   "source": [
    "%%configure -f\n",
    "{ \"conf\": \n",
    "   {\n",
    "       \"spark.jars.packages\": \"io.delta:delta-core_2.12:2.1.1\",\n",
    "       \"spark.sql.extensions\": \"io.delta.sql.DeltaSparkSessionExtension\",\n",
    "       \"spark.sql.catalog.spark_catalog\" : \"org.apache.spark.sql.delta.catalog.DeltaCatalog\"\n",
    "   }\n",
    "}"
   ]
  },
  {
   "cell_type": "markdown",
   "id": "b77ee4df",
   "metadata": {},
   "source": [
    "## Create a SparkSession\n",
    "We are creating this from scratch because EMR's implicit _SparkSession_ creation is unreliable."
   ]
  },
  {
   "cell_type": "code",
   "execution_count": 2,
   "id": "16bfebdf",
   "metadata": {},
   "outputs": [
    {
     "data": {
      "text/html": [
       "<table>\n",
       "<tr><th>ID</th><th>YARN Application ID</th><th>Kind</th><th>State</th><th>Spark UI</th><th>Driver log</th><th>User</th><th>Current session?</th></tr><tr><td>0</td><td>application_1667912611103_0001</td><td>pyspark</td><td>idle</td><td><a target=\"_blank\" href=\"http://ip-172-31-4-25.eu-west-1.compute.internal:20888/proxy/application_1667912611103_0001/\">Link</a></td><td><a target=\"_blank\" href=\"http://ip-172-31-14-39.eu-west-1.compute.internal:8042/node/containerlogs/container_1667912611103_0001_01_000001/livy\">Link</a></td><td>None</td><td>✔</td></tr></table>"
      ],
      "text/plain": [
       "<IPython.core.display.HTML object>"
      ]
     },
     "metadata": {},
     "output_type": "display_data"
    },
    {
     "data": {
      "application/vnd.jupyter.widget-view+json": {
       "model_id": "",
       "version_major": 2,
       "version_minor": 0
      },
      "text/plain": [
       "FloatProgress(value=0.0, bar_style='info', description='Progress:', layout=Layout(height='25px', width='50%'),…"
      ]
     },
     "metadata": {},
     "output_type": "display_data"
    },
    {
     "name": "stdout",
     "output_type": "stream",
     "text": [
      "SparkSession available as 'spark'.\n"
     ]
    },
    {
     "data": {
      "application/vnd.jupyter.widget-view+json": {
       "model_id": "",
       "version_major": 2,
       "version_minor": 0
      },
      "text/plain": [
       "FloatProgress(value=0.0, bar_style='info', description='Progress:', layout=Layout(height='25px', width='50%'),…"
      ]
     },
     "metadata": {},
     "output_type": "display_data"
    },
    {
     "name": "stdout",
     "output_type": "stream",
     "text": [
      "<pyspark.sql.session.SparkSession object at 0x7f5e48514610>"
     ]
    }
   ],
   "source": [
    "import pyspark # only run after findspark.init()\n",
    "from pyspark.sql import SparkSession\n",
    "# May take awhile locally\n",
    "spark = SparkSession.builder.appName(\"Export delta to Athena\").getOrCreate()\n",
    "spark"
   ]
  },
  {
   "cell_type": "markdown",
   "id": "509c4a6b",
   "metadata": {},
   "source": [
    "## Read listings parquet"
   ]
  },
  {
   "cell_type": "code",
   "execution_count": 5,
   "id": "12fc54ce",
   "metadata": {},
   "outputs": [
    {
     "data": {
      "application/vnd.jupyter.widget-view+json": {
       "model_id": "",
       "version_major": 2,
       "version_minor": 0
      },
      "text/plain": [
       "FloatProgress(value=0.0, bar_style='info', description='Progress:', layout=Layout(height='25px', width='50%'),…"
      ]
     },
     "metadata": {},
     "output_type": "display_data"
    }
   ],
   "source": [
    "LISTINGS_INPUT_PARQUET='s3://...'\n",
    "LISTINGS_DELTA_LOCATION='s3://athena-delta/delta/listings.delta'\n",
    "HOSTS_DELTA_LOCATION='s3://athena-delta/delta/hosts.delta'"
   ]
  },
  {
   "cell_type": "code",
   "execution_count": null,
   "id": "b5f026b0",
   "metadata": {},
   "outputs": [],
   "source": [
    "df = spark.read.parquet(INPUT_PARQUET)\n",
    "df.printSchema()"
   ]
  },
  {
   "cell_type": "code",
   "execution_count": null,
   "id": "a174668c",
   "metadata": {},
   "outputs": [],
   "source": [
    "print(f'This delta file will have {df.rdd.getNumPartitions()} partitions.')"
   ]
  },
  {
   "cell_type": "markdown",
   "id": "aab926a3",
   "metadata": {},
   "source": [
    "## Write into Delta"
   ]
  },
  {
   "cell_type": "code",
   "execution_count": null,
   "id": "a6a06a88",
   "metadata": {},
   "outputs": [],
   "source": [
    "df.write.format('delta').save(LISTINGS_DELTA_LOCATION)"
   ]
  },
  {
   "cell_type": "code",
   "execution_count": null,
   "id": "6062e0d1",
   "metadata": {},
   "outputs": [],
   "source": [
    "def q(s): return spark.sql(s)"
   ]
  },
  {
   "cell_type": "markdown",
   "id": "6fc3583b",
   "metadata": {},
   "source": [
    "## Register listings as a table and execute a few queries "
   ]
  },
  {
   "cell_type": "code",
   "execution_count": null,
   "id": "6b53f48c",
   "metadata": {},
   "outputs": [],
   "source": [
    "q(f\"DROP TABLE IF EXISTS my_table\")\n",
    "q(f\"CREATE TABLE my_table USING DELTA LOCATION '{DELTA_LOCATION}'\")"
   ]
  },
  {
   "cell_type": "code",
   "execution_count": null,
   "id": "b37a5c61",
   "metadata": {},
   "outputs": [],
   "source": [
    "q('DESCRIBE EXTENDED my_table').show(truncate=False)"
   ]
  },
  {
   "cell_type": "code",
   "execution_count": null,
   "id": "54b4290d",
   "metadata": {},
   "outputs": [],
   "source": [
    "q('SELECT * FROM my_table').show()"
   ]
  },
  {
   "cell_type": "code",
   "execution_count": null,
   "id": "a4f84557",
   "metadata": {},
   "outputs": [],
   "source": [
    "prDF = q(\"SELECT * FROM my_table WHERE room_type='Private room'\")\n",
    "prDF.write.format('delta').mode('overwrite').save(DELTA_LOCATION)"
   ]
  },
  {
   "cell_type": "code",
   "execution_count": null,
   "id": "6d6b4127",
   "metadata": {},
   "outputs": [],
   "source": [
    "q('DESCRIBE HISTORY my_table').show()"
   ]
  },
  {
   "cell_type": "code",
   "execution_count": null,
   "id": "319ef876",
   "metadata": {},
   "outputs": [],
   "source": [
    "hist_df = q('DESCRIBE HISTORY my_table')\n",
    "hist_df.select('version', 'timestamp', 'operation', 'operationParameters').show(truncate=False)"
   ]
  },
  {
   "cell_type": "code",
   "execution_count": null,
   "id": "95418b8f",
   "metadata": {},
   "outputs": [],
   "source": [
    "q(\"SELECT * FROM my_table WHERE minimum_nights > 365\").show()"
   ]
  },
  {
   "cell_type": "code",
   "execution_count": null,
   "id": "944dd507",
   "metadata": {},
   "outputs": [],
   "source": [
    "q(\"DELETE FROM my_table WHERE minimum_nights > 365\")"
   ]
  },
  {
   "cell_type": "code",
   "execution_count": null,
   "id": "4b145d23",
   "metadata": {},
   "outputs": [],
   "source": [
    "q(\"SELECT * FROM my_table WHERE minimum_nights < 1\").show()"
   ]
  },
  {
   "cell_type": "code",
   "execution_count": null,
   "id": "6345e4ae",
   "metadata": {},
   "outputs": [],
   "source": [
    "q(\"UPDATE my_table set minimum_nights = 1 WHERE minimum_nights < 1\")"
   ]
  },
  {
   "cell_type": "code",
   "execution_count": null,
   "id": "4bd5a03b",
   "metadata": {},
   "outputs": [],
   "source": [
    "hist_df = q('DESCRIBE HISTORY my_table')\n",
    "hist_df.select('version', 'timestamp', 'operation', 'operationParameters').show(truncate=False)"
   ]
  },
  {
   "cell_type": "code",
   "execution_count": null,
   "id": "a630be15",
   "metadata": {},
   "outputs": [],
   "source": [
    "q('SELECT * FROM my_table VERSION AS OF 0').show()"
   ]
  },
  {
   "cell_type": "code",
   "execution_count": null,
   "id": "f7bf5c43",
   "metadata": {},
   "outputs": [],
   "source": [
    "from delta import DeltaTable\n",
    "\n",
    "deltaTable = DeltaTable.forPath(spark, path=DELTA_LOCATION)\n",
    "deltaTable.generate(\"symlink_format_manifest\")\n",
    "\n",
    "print(f'Generated Manifest file at {DELTA_LOCATION}/_symlink_format_manifest')"
   ]
  },
  {
   "cell_type": "markdown",
   "id": "672c153c",
   "metadata": {},
   "source": [
    "# Load hosts.csv and save as delta"
   ]
  },
  {
   "cell_type": "code",
   "execution_count": 4,
   "id": "e6423b9a",
   "metadata": {},
   "outputs": [
    {
     "data": {
      "application/vnd.jupyter.widget-view+json": {
       "model_id": "",
       "version_major": 2,
       "version_minor": 0
      },
      "text/plain": [
       "FloatProgress(value=0.0, bar_style='info', description='Progress:', layout=Layout(height='25px', width='50%'),…"
      ]
     },
     "metadata": {},
     "output_type": "display_data"
    },
    {
     "name": "stdout",
     "output_type": "stream",
     "text": [
      "+-----+--------------+------------+-------------------+-------------------+\n",
      "|   id|          name|is_superhost|         created_at|         updated_at|\n",
      "+-----+--------------+------------+-------------------+-------------------+\n",
      "| 1581|       Annette|           f|2014-01-05 16:12:45|2014-01-05 16:12:45|\n",
      "| 2164|         Lulah|           t|2013-07-31 23:29:31|2013-07-31 23:29:31|\n",
      "| 2217|           Ion|           t|2017-10-17 05:20:28|2017-10-17 05:20:28|\n",
      "| 3718|        Britta|           f|2009-06-05 21:34:42|2009-06-05 21:34:42|\n",
      "|11622|         Maria|           f|2021-10-24 02:42:09|2021-10-24 02:42:09|\n",
      "|12360|       Michael|           t|2017-08-27 12:08:43|2017-08-27 12:08:43|\n",
      "|12424|       Mariana|           f|2021-11-08 17:27:31|2021-11-08 17:27:31|\n",
      "|15115|     Christian|           f|2015-01-03 17:53:53|2015-01-03 17:53:53|\n",
      "|17391|    BrightRoom|           t|2009-08-12 12:30:30|2009-08-12 12:30:30|\n",
      "|22901|        Hannes|           f|2013-07-06 11:09:47|2013-07-06 11:09:47|\n",
      "|32299|         Simon|           f|2021-11-15 21:27:50|2021-11-15 21:27:50|\n",
      "|32918|      Patricia|           f|2017-02-28 21:08:27|2017-02-28 21:08:27|\n",
      "|33355|          Doug|           f|2013-05-30 16:36:37|2013-05-30 16:36:37|\n",
      "|33852|       Philipp|           f|2015-07-30 05:08:52|2015-07-30 05:08:52|\n",
      "|35103|         Kamal|           f|2017-12-04 04:25:58|2017-12-04 04:25:58|\n",
      "|48159|        Tracey|           f|2019-06-04 22:26:33|2019-06-04 22:26:33|\n",
      "|54283|        Marine|           t|2010-09-27 10:29:48|2010-09-27 10:29:48|\n",
      "|55531|Chris + Oliver|           t|2010-06-15 19:56:01|2010-06-15 19:56:01|\n",
      "|60495|          Inga|           f|2021-10-29 07:55:08|2021-10-29 07:55:08|\n",
      "|64696|          Rene|           f|2010-05-30 12:11:33|2010-05-30 12:11:33|\n",
      "+-----+--------------+------------+-------------------+-------------------+\n",
      "only showing top 20 rows\n",
      "\n",
      "root\n",
      " |-- id: integer (nullable = true)\n",
      " |-- name: string (nullable = true)\n",
      " |-- is_superhost: string (nullable = true)\n",
      " |-- created_at: string (nullable = true)\n",
      " |-- updated_at: string (nullable = true)"
     ]
    }
   ],
   "source": [
    "hosts = spark.read.csv('s3://nordquant/athena/airbnb/hosts/hosts.csv', header=True, \n",
    "                       schema=\"id INT, name STRING, is_superhost STRING, created_at STRING, updated_at STRING\")\n",
    "hosts.show()\n",
    "hosts.printSchema()"
   ]
  },
  {
   "cell_type": "code",
   "execution_count": 6,
   "id": "5fa30315",
   "metadata": {},
   "outputs": [
    {
     "data": {
      "application/vnd.jupyter.widget-view+json": {
       "model_id": "",
       "version_major": 2,
       "version_minor": 0
      },
      "text/plain": [
       "FloatProgress(value=0.0, bar_style='info', description='Progress:', layout=Layout(height='25px', width='50%'),…"
      ]
     },
     "metadata": {},
     "output_type": "display_data"
    }
   ],
   "source": [
    "hosts.write.format(\"delta\").mode(\"overwrite\").option('overwriteSchema', True).save(HOSTS_DELTA_LOCATION)"
   ]
  },
  {
   "cell_type": "code",
   "execution_count": 8,
   "id": "45786639",
   "metadata": {},
   "outputs": [
    {
     "data": {
      "application/vnd.jupyter.widget-view+json": {
       "model_id": "",
       "version_major": 2,
       "version_minor": 0
      },
      "text/plain": [
       "FloatProgress(value=0.0, bar_style='info', description='Progress:', layout=Layout(height='25px', width='50%'),…"
      ]
     },
     "metadata": {},
     "output_type": "display_data"
    },
    {
     "name": "stdout",
     "output_type": "stream",
     "text": [
      "Generated Manifest file at s3://athena-delta/delta/hosts.delta/_symlink_format_manifest"
     ]
    }
   ],
   "source": [
    "from delta import DeltaTable\n",
    "\n",
    "deltaTable = DeltaTable.forPath(spark, path=HOSTS_DELTA_LOCATION)\n",
    "deltaTable.generate(\"symlink_format_manifest\")\n",
    "\n",
    "print(f'Generated Manifest file at {HOSTS_DELTA_LOCATION}/_symlink_format_manifest')"
   ]
  }
 ],
 "metadata": {
  "kernelspec": {
   "display_name": "PySpark",
   "language": "python",
   "name": "pysparkkernel"
  },
  "language_info": {
   "codemirror_mode": {
    "name": "python",
    "version": 3
   },
   "file_extension": ".py",
   "mimetype": "text/x-python",
   "name": "pyspark",
   "pygments_lexer": "python3"
  }
 },
 "nbformat": 4,
 "nbformat_minor": 5
}
